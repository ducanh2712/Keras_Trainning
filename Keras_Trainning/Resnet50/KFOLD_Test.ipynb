{
 "cells": [
  {
   "cell_type": "code",
   "execution_count": 1,
   "metadata": {},
   "outputs": [],
   "source": [
    "import matplotlib.pyplot as plt\n",
    "import numpy as np\n",
    "import os\n",
    "import PIL\n",
    "import tensorflow as tf\n",
    "from tensorflow import keras\n",
    "from keras import layers\n",
    "from keras.layers import Dense, Flatten\n",
    "from keras.models import Sequential\n",
    "from keras.optimizers import Adam"
   ]
  },
  {
   "cell_type": "code",
   "execution_count": 2,
   "metadata": {},
   "outputs": [],
   "source": [
    "IMAGE_SHAPE = (224, 224)\n",
    "\n",
    "\n",
    "DATA_DIR = 'D:/OneDrive - Hanoi University of Science and Technology/BackUp/EDABK/AI/Data_AI_EDABK/TuTheNgu/EDABK_IR_23CLASS_5_FOLD'\n",
    "\n",
    "\n",
    "TRAINING_DATA_DIR = (DATA_DIR + '/' + 'FOLD_1' + '/' + 'train_aug')\n",
    "VALID_DATA_DIR = (DATA_DIR + '/' + 'FOLD_1' + '/' + 'val')"
   ]
  },
  {
   "cell_type": "code",
   "execution_count": 3,
   "metadata": {},
   "outputs": [
    {
     "name": "stdout",
     "output_type": "stream",
     "text": [
      "Found 19094 files belonging to 23 classes.\n",
      "Found 2387 files belonging to 23 classes.\n"
     ]
    }
   ],
   "source": [
    "img_height,img_width=180,180\n",
    "\n",
    "batch_size= 256\n",
    "\n",
    "train_generator = tf.keras.preprocessing.image_dataset_from_directory(\n",
    "    TRAINING_DATA_DIR,\n",
    "    seed=123,\n",
    "    label_mode='categorical',\n",
    "    image_size=(img_height, img_width),\n",
    "    batch_size=batch_size\n",
    ")\n",
    "valid_generator = tf.keras.preprocessing.image_dataset_from_directory(\n",
    "    VALID_DATA_DIR,\n",
    "    seed=123,\n",
    "    label_mode='categorical',\n",
    "    image_size=(img_height, img_width),\n",
    "    batch_size=batch_size\n",
    ")"
   ]
  },
  {
   "cell_type": "code",
   "execution_count": 4,
   "metadata": {},
   "outputs": [],
   "source": [
    "resnet_model = Sequential()\n",
    "\n",
    "pretrained_model= tf.keras.applications.ResNet50(include_top=False,\n",
    "                   input_shape=(180,180,3),\n",
    "                   pooling='avg',classes=23,\n",
    "                   weights='imagenet')\n",
    "for layer in pretrained_model.layers:\n",
    "        layer.trainable=False\n",
    "\n",
    "resnet_model.add(pretrained_model)"
   ]
  },
  {
   "cell_type": "code",
   "execution_count": 5,
   "metadata": {},
   "outputs": [
    {
     "name": "stdout",
     "output_type": "stream",
     "text": [
      "Model: \"sequential\"\n",
      "_________________________________________________________________\n",
      " Layer (type)                Output Shape              Param #   \n",
      "=================================================================\n",
      " resnet50 (Functional)       (None, 2048)              23587712  \n",
      "                                                                 \n",
      " flatten (Flatten)           (None, 2048)              0         \n",
      "                                                                 \n",
      " dense (Dense)               (None, 512)               1049088   \n",
      "                                                                 \n",
      " dense_1 (Dense)             (None, 23)                11799     \n",
      "                                                                 \n",
      "=================================================================\n",
      "Total params: 24,648,599\n",
      "Trainable params: 1,060,887\n",
      "Non-trainable params: 23,587,712\n",
      "_________________________________________________________________\n"
     ]
    }
   ],
   "source": [
    "resnet_model.add(Flatten())\n",
    "resnet_model.add(Dense(512, activation='relu'))\n",
    "resnet_model.add(Dense(23, activation='softmax'))\n",
    "\n",
    "resnet_model.summary()"
   ]
  },
  {
   "cell_type": "code",
   "execution_count": 6,
   "metadata": {},
   "outputs": [
    {
     "name": "stderr",
     "output_type": "stream",
     "text": [
      "c:\\Users\\phamd\\AppData\\Local\\Programs\\Python\\Python310\\lib\\site-packages\\keras\\optimizers\\optimizer_v2\\adam.py:110: UserWarning: The `lr` argument is deprecated, use `learning_rate` instead.\n",
      "  super(Adam, self).__init__(name, **kwargs)\n"
     ]
    }
   ],
   "source": [
    "resnet_model.compile(optimizer=Adam(lr=0.001),loss='categorical_crossentropy',metrics=['accuracy'])"
   ]
  },
  {
   "cell_type": "code",
   "execution_count": 7,
   "metadata": {},
   "outputs": [
    {
     "name": "stdout",
     "output_type": "stream",
     "text": [
      "Epoch 1/10\n",
      "75/75 [==============================] - 100s 1s/step - loss: 2.0264 - accuracy: 0.4047 - val_loss: 1.2789 - val_accuracy: 0.6213\n",
      "Epoch 2/10\n",
      "75/75 [==============================] - 89s 1s/step - loss: 1.0502 - accuracy: 0.6817 - val_loss: 0.8985 - val_accuracy: 0.7369\n",
      "Epoch 3/10\n",
      "75/75 [==============================] - 89s 1s/step - loss: 0.7380 - accuracy: 0.7873 - val_loss: 0.6726 - val_accuracy: 0.8094\n",
      "Epoch 4/10\n",
      "75/75 [==============================] - 89s 1s/step - loss: 0.5613 - accuracy: 0.8490 - val_loss: 0.5612 - val_accuracy: 0.8408\n",
      "Epoch 5/10\n",
      "75/75 [==============================] - 90s 1s/step - loss: 0.4502 - accuracy: 0.8789 - val_loss: 0.4913 - val_accuracy: 0.8500\n",
      "Epoch 6/10\n",
      "75/75 [==============================] - 90s 1s/step - loss: 0.3821 - accuracy: 0.8987 - val_loss: 0.4211 - val_accuracy: 0.8743\n",
      "Epoch 7/10\n",
      "75/75 [==============================] - 90s 1s/step - loss: 0.3067 - accuracy: 0.9229 - val_loss: 0.3721 - val_accuracy: 0.8886\n",
      "Epoch 8/10\n",
      "75/75 [==============================] - 90s 1s/step - loss: 0.2596 - accuracy: 0.9404 - val_loss: 0.3393 - val_accuracy: 0.8965\n",
      "Epoch 9/10\n",
      "75/75 [==============================] - 90s 1s/step - loss: 0.2188 - accuracy: 0.9520 - val_loss: 0.2873 - val_accuracy: 0.9242\n",
      "Epoch 10/10\n",
      "75/75 [==============================] - 90s 1s/step - loss: 0.1895 - accuracy: 0.9603 - val_loss: 0.2852 - val_accuracy: 0.9137\n"
     ]
    }
   ],
   "source": [
    "history = resnet_model.fit(train_generator, validation_data=valid_generator, epochs=10)\n",
    "    \n",
    "# FOLD 1: \n",
    "# Epoch 1/10\n",
    "# 150/150 [==============================] - 93s 617ms/step - loss: 1.0293 - accuracy: 0.6790 - val_loss: 0.8571 - val_accuracy: 0.7218\n",
    "# Epoch 2/10\n",
    "# 150/150 [==============================] - 88s 586ms/step - loss: 0.6669 - accuracy: 0.7928 - val_loss: 0.5941 - val_accuracy: 0.8257\n",
    "# Epoch 3/10\n",
    "# 150/150 [==============================] - 88s 586ms/step - loss: 0.4738 - accuracy: 0.8611 - val_loss: 0.4794 - val_accuracy: 0.8521\n",
    "# Epoch 4/10\n",
    "# 150/150 [==============================] - 88s 583ms/step - loss: 0.3636 - accuracy: 0.8977 - val_loss: 0.4303 - val_accuracy: 0.8597\n",
    "# Epoch 5/10\n",
    "# 150/150 [==============================] - 88s 586ms/step - loss: 0.2927 - accuracy: 0.9210 - val_loss: 0.4094 - val_accuracy: 0.8588\n",
    "# Epoch 6/10\n",
    "# 150/150 [==============================] - 88s 584ms/step - loss: 0.2369 - accuracy: 0.9357 - val_loss: 0.3061 - val_accuracy: 0.9041\n",
    "# Epoch 7/10\n",
    "# 150/150 [==============================] - 88s 584ms/step - loss: 0.1899 - accuracy: 0.9533 - val_loss: 0.2601 - val_accuracy: 0.9187\n",
    "# Epoch 8/10\n",
    "# 150/150 [==============================] - 88s 586ms/step - loss: 0.1598 - accuracy: 0.9599 - val_loss: 0.2731 - val_accuracy: 0.9099\n",
    "# Epoch 9/10\n",
    "# 150/150 [==============================] - 88s 585ms/step - loss: 0.1352 - accuracy: 0.9690 - val_loss: 0.2376 - val_accuracy: 0.9187\n",
    "# Epoch 10/10\n",
    "# 150/150 [==============================] - 88s 586ms/step - loss: 0.1154 - accuracy: 0.9738 - val_loss: 0.2093 - val_accuracy: 0.9334\n",
    "# FOLD 2: \n",
    "# Epoch 1/10\n",
    "# 150/150 [==============================] - 93s 608ms/step - loss: 0.1438 - accuracy: 0.9625 - val_loss: 0.1410 - val_accuracy: 0.9543\n",
    "# Epoch 2/10\n",
    "# ...\n",
    "# Epoch 9/10\n",
    "# 150/150 [==============================] - 93s 617ms/step - loss: 0.0017 - accuracy: 1.0000 - val_loss: 0.0037 - val_accuracy: 0.9996\n",
    "# Epoch 10/10\n",
    "# 150/150 [==============================] - 93s 617ms/step - loss: 0.0016 - accuracy: 1.0000 - val_loss: 0.0035 - val_accuracy: 0.9996"
   ]
  },
  {
   "cell_type": "code",
   "execution_count": 9,
   "metadata": {},
   "outputs": [
    {
     "name": "stdout",
     "output_type": "stream",
     "text": [
      "Accuracy and loss of Fold 1: 0.9603016376495361\n",
      "Loss of Fold 1: 0.18945205211639404\n"
     ]
    }
   ],
   "source": [
    "accuracy_list = history.history['accuracy'][9] * 100\n",
    "loss_list = history.history['loss'][9]\n",
    "print(f'Accuracy and loss of Fold 1:', (history.history['accuracy'][9]))\n",
    "print(f'Loss of Fold 1:', history.history['loss'][9] )\n",
    "\n",
    "# Accuracy and loss of Fold 0: [0.40222060680389404, 0.6729862689971924, 0.7811878323554993, 0.8405258059501648, 0.8830522894859314, 0.8987640142440796, 0.9213889241218567, 0.9393526911735535, 0.9528647661209106, 0.9563737511634827] [2.0189740657806396, 1.067207932472229, 0.7519636154174805, 0.5755424499511719, 0.45365625619888306, 0.38207703828811646, 0.31448861956596375, 0.26600411534309387, 0.2199271023273468, 0.19870547950267792]\n",
    "# Accuracy and loss of Fold 1: [0.46585673093795776, 0.7408357858657837, 0.8333158493041992, 0.8796082735061646, 0.907153308391571, 0.922601580619812, 0.9430770874023438, 0.952398419380188, 0.9530791640281677, 0.9673753380775452] [1.716201663017273, 0.8252819180488586, 0.5808322429656982, 0.43984684348106384, 0.35857486724853516, 0.3043197989463806, 0.2483029067516327, 0.21120813488960266, 0.19432468712329865, 0.16115155816078186]\n",
    "# Accuracy and loss of Fold 2: [0.4680037796497345, 0.750471293926239, 0.837400496006012, 0.8819124698638916, 0.915270209312439, 0.9313468933105469, 0.9452241063117981, 0.9518747329711914, 0.9595726728439331, 0.9673753380775452] [1.7077630758285522, 0.7871224284172058, 0.5511044859886169, 0.4253581464290619, 0.339293509721756, 0.28206750750541687, 0.2412741482257843, 0.2044820934534073, 0.17571452260017395, 0.15549547970294952]\n",
    "# Accuracy and loss of Fold 3: [0.47805821895599365, 0.7519899606704712, 0.8343108296394348, 0.8780372738838196, 0.915741503238678, 0.9329702258110046, 0.94349604845047, 0.9551738500595093, 0.9627670645713806, 0.9735546708106995] [1.6821590662002563, 0.794365406036377, 0.5528151392936707, 0.4213973879814148, 0.33538898825645447, 0.2743440270423889, 0.2354818433523178, 0.19694942235946655, 0.17181462049484253, 0.1432795524597168]\n",
    "# Accuracy and loss of Fold 4: [0.4674800932407379, 0.7546082735061646, 0.8376623392105103, 0.8880917429924011, 0.9043254852294922, 0.9273146390914917, 0.9444909691810608, 0.9551215171813965, 0.9532362818717957, 0.9695224165916443] [1.7231602668762207, 0.7941043376922607, 0.5513709187507629, 0.41026628017425537, 0.35400816798210144, 0.2806389629840851, 0.23416806757450104, 0.1936349719762802, 0.18444286286830902, 0.14426304399967194]\n",
    "# * Overview:\n",
    "# > Accuracy: 96.68403029441833 (Độ lệch +- 0.569908239685569)\n",
    "# > Loss: 0.16057902276515962\n",
    "\n",
    "# Accuracy and loss of Fold 0: 0.9563737511634827\n",
    "# Loss of Fold 0: 0.19870547950267792\n",
    "# Accuracy and loss of Fold 1: 0.9673753380775452\n",
    "# Loss of Fold 1: 0.16115155816078186\n",
    "# Accuracy and loss of Fold 2: 0.9673753380775452\n",
    "# Loss of Fold 2: 0.15549547970294952\n",
    "# Accuracy and loss of Fold 3: 0.9735546708106995\n",
    "# Loss of Fold 3: 0.1432795524597168\n",
    "# Accuracy and loss of Fold 4: 0.9695224165916443\n",
    "# Loss of Fold 4: 0.14426304399967194\n",
    "# * Overview:\n",
    "# > Accuracy: 96.68403029441833 (Độ lệch +- 0.569908239685569)\n",
    "# > Loss: 0.16057902276515962"
   ]
  }
 ],
 "metadata": {
  "kernelspec": {
   "display_name": "Python 3.10.6 64-bit",
   "language": "python",
   "name": "python3"
  },
  "language_info": {
   "codemirror_mode": {
    "name": "ipython",
    "version": 3
   },
   "file_extension": ".py",
   "mimetype": "text/x-python",
   "name": "python",
   "nbconvert_exporter": "python",
   "pygments_lexer": "ipython3",
   "version": "3.10.6"
  },
  "orig_nbformat": 4,
  "vscode": {
   "interpreter": {
    "hash": "4bab23f09fb65a505bfbe81ca14cc25f1573a18df8f89bc62fc496e048d8d28a"
   }
  }
 },
 "nbformat": 4,
 "nbformat_minor": 2
}
